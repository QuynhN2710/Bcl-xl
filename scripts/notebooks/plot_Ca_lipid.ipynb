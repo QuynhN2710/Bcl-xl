{
 "cells": [
  {
   "cell_type": "code",
   "execution_count": 84,
   "metadata": {},
   "outputs": [],
   "source": [
    "import MDAnalysis as mda\n",
    "import pandas as pd\n",
    "import matplotlib.pyplot as plt"
   ]
  },
  {
   "cell_type": "code",
   "execution_count": 3,
   "metadata": {},
   "outputs": [],
   "source": [
    "def get_resid(index_lst, u):\n",
    "    selection_str = \"index \"\n",
    "    for index in index_lst:\n",
    "        selection_str = selection_str + str(index) + \" \"\n",
    "    res = u.select_atoms(selection_str)\n",
    "    resid = list(set(res.resids))\n",
    "    return resid"
   ]
  },
  {
   "cell_type": "code",
   "execution_count": 4,
   "metadata": {},
   "outputs": [],
   "source": [
    "def read_file(file):\n",
    "    data = []\n",
    "    for line in file.readlines():\n",
    "        frame_data = {}\n",
    "        indices = line.split()[2:]\n",
    "        i = 0\n",
    "        while i < len(indices):\n",
    "            Ca = indices[i]\n",
    "            prot_or_lipid = indices[i+1]\n",
    "            if Ca in frame_data.keys():\n",
    "                frame_data[Ca].append(prot_or_lipid)\n",
    "            else:\n",
    "                frame_data[Ca] = [prot_or_lipid]\n",
    "            i = i+2\n",
    "        data.append(frame_data)\n",
    "    return data"
   ]
  },
  {
   "cell_type": "code",
   "execution_count": 5,
   "metadata": {},
   "outputs": [
    {
     "name": "stderr",
     "output_type": "stream",
     "text": [
      "/Users/quynhnguyen/opt/anaconda3/envs/Hv1/lib/python3.11/site-packages/MDAnalysis/coordinates/DCD.py:165: DeprecationWarning: DCDReader currently makes independent timesteps by copying self.ts while other readers update self.ts inplace. This behavior will be changed in 3.0 to be the same as other readers. Read more at https://github.com/MDAnalysis/mdanalysis/issues/3889 to learn if this change in behavior might affect you.\n",
      "  warnings.warn(\"DCDReader currently makes independent timesteps\"\n"
     ]
    }
   ],
   "source": [
    "traj_dir_Ca = '/Users/quynhnguyen/OneDrive/research/Bcl-xl/bclxL_Unprot_1_2_CLPC_50mM_CaCl2/analysis/traj/'\n",
    "u_Ca = mda.Universe(traj_dir_Ca + 'bclxL_Unprot_1_2_CLPC_50mM_CaCl2_from_VMD.psf', traj_dir_Ca + 'BclxL_Unprot_1_2_CLPC_50mM_CaCl2-0-20834-every1000.dcd')"
   ]
  },
  {
   "cell_type": "code",
   "execution_count": 8,
   "metadata": {},
   "outputs": [],
   "source": [
    "data_dir = \"/Users/quynhnguyen/OneDrive/research/Bcl-xl/bclxL_Unprot_1_2_CLPC_50mM_CaCl2/analysis/traj/\"\n",
    "Ca_lipid_file = open(data_dir+ \"BclxL_Unprot_1_2_CLPC_50mM_CaCl2_Ca_lipid.dat\", 'r')\n",
    "Ca_prot_file = open(data_dir + \"BclxL_Unprot_1_2_CLPC_50mM_CaCl2_Ca_prot.dat\",'r')"
   ]
  },
  {
   "cell_type": "code",
   "execution_count": 9,
   "metadata": {},
   "outputs": [],
   "source": [
    "with open (data_dir+\"CAL_index.txt\", 'r') as file:\n",
    "    Ca_indices = file.readline().split()"
   ]
  },
  {
   "cell_type": "code",
   "execution_count": 10,
   "metadata": {},
   "outputs": [],
   "source": [
    "with open(data_dir + \"BclxL_Unprot_1_2_CLPC_50mM_CaCl2_Ca_lipid.dat\") as file:\n",
    "    Ca_lipid_data = read_file(file)"
   ]
  },
  {
   "cell_type": "code",
   "execution_count": 11,
   "metadata": {},
   "outputs": [],
   "source": [
    "Ca_lipid_data = read_file(Ca_lipid_file)\n",
    "Ca_prot_data = read_file(Ca_prot_file)"
   ]
  },
  {
   "cell_type": "code",
   "execution_count": 110,
   "metadata": {},
   "outputs": [],
   "source": [
    "Ca_prot_lipid = {}\n",
    "for i in range(0, len(Ca_lipid_data)):\n",
    "    for key in Ca_prot_data[i].keys():\n",
    "        #If the key found in Ca_prot_data and Ca_lipid_data\n",
    "        if key in Ca_lipid_data[i].keys():\n",
    "            the_prot = get_resid(Ca_prot_data[i][key], u_Ca)\n",
    "            the_lipid = get_resid(Ca_lipid_data[i][key], u_Ca)\n",
    "            new_key = get_resid([key], u_Ca)[0]\n",
    "            if new_key in Ca_prot_lipid.keys():\n",
    "                Ca_prot_lipid[new_key] = Ca_prot_lipid[new_key] + [i ,the_prot, the_lipid]\n",
    "            else:\n",
    "                Ca_prot_lipid[new_key] = [i, the_prot, the_lipid]\n"
   ]
  },
  {
   "cell_type": "code",
   "execution_count": 95,
   "metadata": {},
   "outputs": [],
   "source": [
    "def count_protein(a_list):\n",
    "    proteins = []\n",
    "    i = 1\n",
    "    while i < len(a_list)-2:\n",
    "        res = a_list[i]\n",
    "        i = i+3\n",
    "        proteins.append(res)\n",
    "    sr = pd.Series(proteins)\n",
    "    return sr.value_counts()"
   ]
  },
  {
   "cell_type": "code",
   "execution_count": 103,
   "metadata": {},
   "outputs": [
    {
     "name": "stdout",
     "output_type": "stream",
     "text": [
      "[42]\n"
     ]
    }
   ],
   "source": [
    "proteins = count_protein(Ca_prot_lipid[9])\n",
    "print(proteins.index[0])"
   ]
  },
  {
   "cell_type": "code",
   "execution_count": 117,
   "metadata": {},
   "outputs": [
    {
     "name": "stdout",
     "output_type": "stream",
     "text": [
      "[[52]]\n",
      "[[107]]\n",
      "[[156]]\n",
      "[[158]]\n",
      "[]\n",
      "[[202], [202, 76], [76]]\n",
      "[[61]]\n",
      "[]\n",
      "[[42]]\n",
      "[[202, 76], [202], [76]]\n",
      "[[39]]\n",
      "[[61]]\n",
      "[[153, 156], [153]]\n",
      "[[46]]\n",
      "[[42]]\n",
      "[[92, 95]]\n",
      "[[39]]\n",
      "[[61]]\n",
      "[[207]]\n",
      "[[39]]\n",
      "[[61]]\n",
      "[[42]]\n",
      "[]\n",
      "[[96, 208]]\n",
      "[[133]]\n",
      "[]\n",
      "[[107]]\n",
      "[[129]]\n",
      "[[19]]\n",
      "[[133]]\n",
      "[]\n",
      "[]\n",
      "[[19]]\n",
      "[142, 31, 83, 113, 53, 56, 147, 10, 120, 23, 36, 166, 111, 103, 9, 68, 153, 17, 139, 41, 135, 52, 19, 129, 104, 110, 88, 94, 67, 122, 1, 90, 112]\n",
      "[]\n"
     ]
    },
    {
     "name": "stderr",
     "output_type": "stream",
     "text": [
      "/var/folders/cm/4vn4kyns4kgghjx65t7cmzfw0000gn/T/ipykernel_14721/4166577759.py:8: FutureWarning: The default dtype for empty Series will be 'object' instead of 'float64' in a future version. Specify a dtype explicitly to silence this warning.\n",
      "  sr = pd.Series(proteins)\n",
      "/var/folders/cm/4vn4kyns4kgghjx65t7cmzfw0000gn/T/ipykernel_14721/4166577759.py:8: FutureWarning: The default dtype for empty Series will be 'object' instead of 'float64' in a future version. Specify a dtype explicitly to silence this warning.\n",
      "  sr = pd.Series(proteins)\n",
      "/var/folders/cm/4vn4kyns4kgghjx65t7cmzfw0000gn/T/ipykernel_14721/4166577759.py:8: FutureWarning: The default dtype for empty Series will be 'object' instead of 'float64' in a future version. Specify a dtype explicitly to silence this warning.\n",
      "  sr = pd.Series(proteins)\n",
      "/var/folders/cm/4vn4kyns4kgghjx65t7cmzfw0000gn/T/ipykernel_14721/4166577759.py:8: FutureWarning: The default dtype for empty Series will be 'object' instead of 'float64' in a future version. Specify a dtype explicitly to silence this warning.\n",
      "  sr = pd.Series(proteins)\n",
      "/var/folders/cm/4vn4kyns4kgghjx65t7cmzfw0000gn/T/ipykernel_14721/4166577759.py:8: FutureWarning: The default dtype for empty Series will be 'object' instead of 'float64' in a future version. Specify a dtype explicitly to silence this warning.\n",
      "  sr = pd.Series(proteins)\n",
      "/var/folders/cm/4vn4kyns4kgghjx65t7cmzfw0000gn/T/ipykernel_14721/4166577759.py:8: FutureWarning: The default dtype for empty Series will be 'object' instead of 'float64' in a future version. Specify a dtype explicitly to silence this warning.\n",
      "  sr = pd.Series(proteins)\n"
     ]
    }
   ],
   "source": [
    "count_dict = {}\n",
    "x = []\n",
    "y = []\n",
    "count = []\n",
    "for key,value in Ca_prot_lipid.items():\n",
    "    x.append(key)\n",
    "    count = count_protein(value).index.to_list()\n",
    "    print(count)\n",
    "print(x)\n",
    "print(y)"
   ]
  },
  {
   "cell_type": "code",
   "execution_count": 86,
   "metadata": {},
   "outputs": [
    {
     "data": {
      "image/png": "[encoded data removed]",
      "text/plain": [
       "<Figure size 640x480 with 1 Axes>"
      ]
     },
     "metadata": {},
     "output_type": "display_data"
    }
   ],
   "source": [
    "fig = plt.figure()\n",
    "ax = fig.subplots()\n",
    "ax.scatter()"
   ]
  },
  {
   "cell_type": "code",
   "execution_count": 216,
   "metadata": {},
   "outputs": [
    {
     "name": "stdout",
     "output_type": "stream",
     "text": [
      "0              32\n",
      "1    [[52], [47]]\n",
      "2              33\n",
      "3    [[52], [47]]\n",
      "4              34\n",
      "5    [[52], [47]]\n",
      "6              35\n",
      "7    [[52], [47]]\n",
      "dtype: object\n"
     ]
    }
   ],
   "source": [
    "sr = pd.Series([32, [[52], [47]], 33, [[52], [47]], 34, [[52], [47]], 35, [[52], [47]]])\n",
    "print(sr)\n",
    "#for value in sr.value_counts().index:   \n",
    "    #print(isinstance(value, list))\n",
    "\n",
    "def count(a_list):\n",
    "    list_to_make_sr = []\n",
    "    for item in a_list:\n",
    "        if isinstance(item, int) == False:\n",
    "            list_to_make_sr.append(item)\n",
    "    sr = pd.Series(list_to_make_sr)\n",
    "    #print(sr.value_counts())\n",
    "    return sr.value_counts()"
   ]
  },
  {
   "cell_type": "code",
   "execution_count": 225,
   "metadata": {},
   "outputs": [
    {
     "data": {
      "text/plain": [
       "Index([     [[42], [110]],      [[42], [175]],       [[42], [81]],\n",
       "            [[42], [165]],      [[42], [136]],       [[42], [93]],\n",
       "            [[42], [167]],       [[42], [15]],      [[42], [114]],\n",
       "             [[42], [45]],       [[42], [25]],   [[42], [25, 46]],\n",
       "            [[42], [160]],       [[42], [78]], [[42], [114, 175]],\n",
       "             [[42], [46]],       [[42], [54]],       [[42], [47]],\n",
       "        [[42], [136, 47]], [[42], [136, 110]],      [[42], [109]],\n",
       "            [[42], [132]],      [[42], [168]],       [[42], [66]]],\n",
       "      dtype='object')"
      ]
     },
     "execution_count": 225,
     "metadata": {},
     "output_type": "execute_result"
    }
   ],
   "source": [
    "check = Ca_prot_lipid[9]\n",
    "count(check).index"
   ]
  },
  {
   "cell_type": "code",
   "execution_count": 176,
   "metadata": {},
   "outputs": [
    {
     "name": "stdout",
     "output_type": "stream",
     "text": [
      "True\n",
      "[[52], [47]]\n"
     ]
    }
   ],
   "source": [
    "print(Ca_prot_lipid[142][0][1] == Ca_prot_lipid[142][1][1])\n",
    "print(Ca_prot_lipid[142][1][1])\n",
    "sum_dict = {}\n",
    "for key in Ca_prot_lipid.keys():\n",
    "    "
   ]
  },
  {
   "cell_type": "code",
   "execution_count": 89,
   "metadata": {},
   "outputs": [
    {
     "data": {
      "text/plain": [
       "array([  1,   9,  10,  17,  19,  23,  31,  36,  41,  52,  53,  56,  67,\n",
       "        68,  83,  88,  90,  94, 103, 104, 110, 111, 112, 113, 120, 122,\n",
       "       129, 135, 139, 142, 147, 153, 166])"
      ]
     },
     "execution_count": 89,
     "metadata": {},
     "output_type": "execute_result"
    }
   ],
   "source": [
    "Ca_selection_str = \"index \"\n",
    "for key in Ca_prot_lipid.keys():\n",
    "    Ca_selection_str = Ca_selection_str + key + \" \"\n",
    "Ca = u_Ca.select_atoms(Ca_selection_str)\n",
    "Ca.resids"
   ]
  },
  {
   "cell_type": "code",
   "execution_count": 162,
   "metadata": {},
   "outputs": [
    {
     "data": {
      "text/plain": [
       "dict_keys([0])"
      ]
     },
     "execution_count": 162,
     "metadata": {},
     "output_type": "execute_result"
    }
   ],
   "source": [
    "Ca_prot_lipid.keys()"
   ]
  },
  {
   "cell_type": "code",
   "execution_count": 131,
   "metadata": {},
   "outputs": [
    {
     "name": "stdout",
     "output_type": "stream",
     "text": [
      "206994:1547\n",
      "207046:1961\n",
      "207076:1060\n",
      "207019:513\n",
      "207129:1171\n",
      "207116:874\n"
     ]
    }
   ],
   "source": [
    "interaction_time = []\n",
    "for key in Ca_prot_lipid.keys():\n",
    "    if len(Ca_prot_lipid[key]) > 500:\n",
    "        print(key, end=\":\")\n",
    "        print(len(Ca_prot_lipid[key]))\n",
    "    interaction_time.append(len(Ca_prot_lipid[key]))"
   ]
  },
  {
   "cell_type": "code",
   "execution_count": 126,
   "metadata": {},
   "outputs": [
    {
     "name": "stdout",
     "output_type": "stream",
     "text": [
      "[4, 1547, 1961, 1060, 1, 513, 77, 1, 194, 22, 249, 1171, 178, 268, 221, 347, 874, 250, 4, 467, 346, 41, 1, 77, 13, 1, 37, 4, 4, 65, 1, 1, 4]\n"
     ]
    }
   ],
   "source": [
    "print(interaction_time)"
   ]
  },
  {
   "cell_type": "code",
   "execution_count": 117,
   "metadata": {},
   "outputs": [
    {
     "name": "stdout",
     "output_type": "stream",
     "text": [
      "[[32, {'802'}, {'11259'}], [33, {'802'}, {'11259'}], [34, {'802'}, {'11259'}], [35, {'802'}, {'11259'}]]\n"
     ]
    }
   ],
   "source": [
    "print(Ca_prot_lipid['207105'])"
   ]
  },
  {
   "cell_type": "markdown",
   "metadata": {},
   "source": [
    "What are the proteins that interact with lipid through Ca2+ ?"
   ]
  },
  {
   "cell_type": "code",
   "execution_count": 120,
   "metadata": {},
   "outputs": [
    {
     "name": "stdout",
     "output_type": "stream",
     "text": [
      "{'629', '665', '664', '995', '318', '2363', '3174', '3157', '2030', '2362', '932', '2324', '1619', '1116', '1956', '2323', '1375', '1453', '2400', '722', '933', '802', '3078', '628', '1419', '2031', '2399', '1117', '823', '3175', '1618', '1677', '723', '3079', '1374', '1418', '1955', '1404'}\n"
     ]
    }
   ],
   "source": [
    "hot_proteins = set()\n",
    "for key in Ca_prot_lipid.keys():\n",
    "    for i in range(0,len(Ca_prot_lipid[key])):\n",
    "        hot_proteins.update(Ca_prot_lipid[key][i][1])\n",
    "print(hot_proteins)"
   ]
  },
  {
   "cell_type": "markdown",
   "metadata": {},
   "source": [
    "The resid for the indices above are 19 39 39 42 42 46 46 52 54 61 61 66 76 76 92 92 95 96 96 98 107 107 111 129 129 133 133 153 153 156 156 158 158 202 202 207 208 208"
   ]
  },
  {
   "cell_type": "code",
   "execution_count": 122,
   "metadata": {},
   "outputs": [
    {
     "name": "stdout",
     "output_type": "stream",
     "text": [
      "629 665 664 995 318 2363 3174 3157 2030 2362 932 2324 1619 1116 1956 2323 1375 1453 2400 722 933 802 3078 628 1419 2031 2399 1117 823 3175 1618 1677 723 3079 1374 1418 1955 1404 "
     ]
    }
   ],
   "source": [
    "for protein in hot_proteins:\n",
    "    print (protein, end =\" \")"
   ]
  },
  {
   "cell_type": "code",
   "execution_count": null,
   "metadata": {},
   "outputs": [],
   "source": []
  }
 ],
 "metadata": {
  "kernelspec": {
   "display_name": "Hv1",
   "language": "python",
   "name": "python3"
  },
  "language_info": {
   "codemirror_mode": {
    "name": "ipython",
    "version": 3
   },
   "file_extension": ".py",
   "mimetype": "text/x-python",
   "name": "python",
   "nbconvert_exporter": "python",
   "pygments_lexer": "ipython3",
   "version": "3.11.0"
  }
 },
 "nbformat": 4,
 "nbformat_minor": 2
}
